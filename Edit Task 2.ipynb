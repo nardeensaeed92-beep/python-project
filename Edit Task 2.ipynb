{
 "cells": [
  {
   "cell_type": "code",
   "execution_count": null,
   "id": "b6937dab",
   "metadata": {},
   "outputs": [],
   "source": [
    "Temprature = 11\n",
    "if Temprature >= 30 :\n",
    "   print (\"It is hot day, stay hydrated .\")\n",
    "elif 20 <= Temprature <= 29 \n",
    "   print (\"It is a warm day , Enjoy the weather.\")\n",
    "elif 10 <= Temprature <=19 \n",
    "   print (\"It is a great day, wear your jacket.\")\n",
    "else Temprature < 10 : \n",
    "   print (\"It is a cold day, stay warm.\")"
   ]
  }
 ],
 "metadata": {
  "language_info": {
   "name": "python"
  }
 },
 "nbformat": 4,
 "nbformat_minor": 5
}
