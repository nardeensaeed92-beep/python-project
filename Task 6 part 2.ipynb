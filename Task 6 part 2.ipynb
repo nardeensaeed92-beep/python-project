{
 "cells": [
  {
   "cell_type": "code",
   "execution_count": null,
   "id": "26a44df1",
   "metadata": {
    "vscode": {
     "languageId": "plaintext"
    }
   },
   "outputs": [],
   "source": [
    "# Task: Basic Operations with Pandas\n",
    "\n",
    "import pandas as pd\n",
    "\n",
    "# 1. Create a DataFrame\n",
    "students_data = {\n",
    "    \"Name\": [\"Ali\", \"Sara\", \"Omar\", \"Laila\", \"Khaled\"],\n",
    "    \"Age\": [20, 21, 19, 22, 20],\n",
    "    \"Grade\": [\"A\", \"B\", \"A\", \"C\", \"B\"],\n",
    "    \"Score\": [88, 76, 95, 67, 80]\n",
    "}\n",
    "\n",
    "df = pd.DataFrame(students_data)\n",
    "\n",
    "print(\"Students DataFrame:\")\n",
    "print(df)\n",
    "\n",
    "# 2. Accessing Data\n",
    "print(\"\\n--- Accessing Data ---\")\n",
    "print(\"Names column:\\n\", df[\"Name\"])\n",
    "print(\"First 3 rows:\\n\", df.head(3))\n",
    "print(\"Row with index 2:\\n\", df.loc[2])\n",
    "\n",
    "# 3. Basic Operations\n",
    "print(\"\\n--- Basic Operations ---\")\n",
    "print(\"Average Score:\", df[\"Score\"].mean())\n",
    "print(\"Maximum Score:\", df[\"Score\"].max())\n",
    "print(\"Minimum Score:\", df[\"Score\"].min())\n",
    "\n",
    "# Filter students with Score > 80\n",
    "print(\"\\nStudents with Score > 80:\")\n",
    "print(df[df[\"Score\"] > 80])"
   ]
  }
 ],
 "metadata": {
  "language_info": {
   "name": "python"
  }
 },
 "nbformat": 4,
 "nbformat_minor": 5
}
