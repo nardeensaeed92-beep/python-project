{
 "cells": [
  {
   "cell_type": "code",
   "execution_count": null,
   "id": "9f478a49",
   "metadata": {
    "vscode": {
     "languageId": "plaintext"
    }
   },
   "outputs": [],
   "source": [
    "tasks = [\"Task1\", \"Task2\", \"Task3\"]\n",
    "[print(t) for t in tasks]\n"
   ]
  }
 ],
 "metadata": {
  "language_info": {
   "name": "python"
  }
 },
 "nbformat": 4,
 "nbformat_minor": 5
}
