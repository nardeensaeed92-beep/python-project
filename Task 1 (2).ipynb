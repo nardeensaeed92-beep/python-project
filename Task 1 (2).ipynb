{
 "cells": [
  {
   "cell_type": "code",
   "execution_count": null,
   "id": "4135c5a0",
   "metadata": {},
   "outputs": [],
   "source": [
    "# Defining a float variable for three goods prices in the market.\n",
    "Price 1 = 100.50\n",
    "Price 2 = 200.75\n",
    "Price 3 = 300.25\n",
    "Print (\"Price 1\")\n",
    "Print (\"Price 2\")\n",
    "Print (\"Price 3\")\n",
    "# Defining a float variable for total budget.\n",
    "Total budget = 1000\n",
    "Print (\"Total budget:\",Total budget )\n",
    "# Defining total cost of goods.\n",
    "Total cost of goods = Price 1 + Price 2 + Price 3 = 601.5 \n",
    "if condition: Total budget > Total cost of goods:\n",
    "Print (\"It will be a profitable budget because the total budget is bigger than total cost of goods.\")\n",
    "elif Total cost of goods > Total budget : \n",
    "    pass\n",
    "else :\n",
    "    Print (\"Total budget = Total cost of goods.\")\n",
    "# compare between total budget and cost of goods .\n",
    "Print (\"Total budget > Total cost of goods\")\n",
    "Total budget - Total cost of goods = 1000 - 601.5 = 398.5 \n"
   ]
  },
  {
   "cell_type": "code",
   "execution_count": null,
   "id": "8c55355a",
   "metadata": {},
   "outputs": [],
   "source": []
  }
 ],
 "metadata": {
  "language_info": {
   "name": "python"
  }
 },
 "nbformat": 4,
 "nbformat_minor": 5
}
