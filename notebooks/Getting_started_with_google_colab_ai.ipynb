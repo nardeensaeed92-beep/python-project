{
  "cells": [
    {
      "cell_type": "code",
      "source": [
        "Temprature = 11\n",
        "if Temprature >= 30\n",
        "   print (\"It is hot day, stay hydrated .\")\n",
        "els :\n",
        "   print (\"It is a nice weather.\")\n",
        "if 20 <= Temprature <= 29\n",
        "   print (\"It is a warm day , Enjoy the weather.\")\n",
        "els :\n",
        "   print (\"The weather is not warm enough.\")\n",
        "if 10 <= Temprature <=19\n",
        "   print (\"It is a great day, wear your jacket.\")\n",
        "els :\n",
        "   print (\"It is a good weather.\")\n",
        "if Temprature < 10\n",
        "   print (\"It is a cold day, stay warm.\")"
      ],
      "metadata": {
        "id": "9sKgDVcKViQw",
        "outputId": "e717b8e0-fcef-49c4-a594-3686dbf4df34",
        "colab": {
          "base_uri": "https://localhost:8080/",
          "height": 106
        }
      },
      "execution_count": 1,
      "outputs": [
        {
          "output_type": "error",
          "ename": "SyntaxError",
          "evalue": "expected ':' (ipython-input-2890901560.py, line 2)",
          "traceback": [
            "\u001b[0;36m  File \u001b[0;32m\"/tmp/ipython-input-2890901560.py\"\u001b[0;36m, line \u001b[0;32m2\u001b[0m\n\u001b[0;31m    if Temprature >= 30\u001b[0m\n\u001b[0m                        ^\u001b[0m\n\u001b[0;31mSyntaxError\u001b[0m\u001b[0;31m:\u001b[0m expected ':'\n"
          ]
        }
      ]
    },
    {
      "cell_type": "code",
      "source": [],
      "metadata": {
        "id": "CgJs751Ji4A7"
      },
      "execution_count": null,
      "outputs": []
    }
  ],
  "metadata": {
    "colab": {
      "provenance": []
    },
    "kernelspec": {
      "name": "python3",
      "display_name": "Python 3"
    },
    "language_info": {
      "name": "python"
    }
  },
  "nbformat": 4,
  "nbformat_minor": 0
}