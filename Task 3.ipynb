{
 "cells": [
  {
   "cell_type": "code",
   "execution_count": null,
   "id": "80e65b61",
   "metadata": {
    "vscode": {
     "languageId": "plaintext"
    }
   },
   "outputs": [],
   "source": [
    "Contact = {\n",
    "    \" Ali \" : \"01012345678\" ,\n",
    "    \" Mona \" : \"01198765432\" ,\n",
    "    \" Dody \" : \"01234567890\" ,\n",
    "}\n",
    "  print (\"Contact Name :\")\n",
    " for name in Contact.Keys():\n",
    "  print(\"-\",Name)\n",
    "  Search name = input(\"\\n Dody:\")\n",
    "\n",
    "  if Search name in Contact:\n",
    "     print(f \"find the number in Contact 01234567890 {Search name}:\")\n",
    "     else:\n",
    "          print(\"Did not find the number in Contact.\")\n"
   ]
  },
  {
   "cell_type": "code",
   "execution_count": null,
   "id": "0a51bcc0",
   "metadata": {
    "vscode": {
     "languageId": "plaintext"
    }
   },
   "outputs": [],
   "source": [
    "Students = [\n",
    "    {\"name\": \" Ali\", \"grades\": [70,80,90]},\n",
    "    {\"name\": \"Mona\",\"grades\": [95,85,100]},\n",
    "    {\"name\": \"Dody\",\"grades\":[90,95,100]}\n",
    "]\n",
    "   print(\"\\n StudentsAverage Grades:\")\n",
    "   for student in students:\n",
    "        avg = sum(Students[\"grades\"]) \\\n",
    "   len(Students[\"grades\"])\n",
    "       print(f\"{Students['name']}) -> Average grades: {avg:.2f})"
   ]
  }
 ],
 "metadata": {
  "language_info": {
   "name": "python"
  }
 },
 "nbformat": 4,
 "nbformat_minor": 5
}
