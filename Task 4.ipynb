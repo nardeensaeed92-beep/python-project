{
 "cells": [
  {
   "cell_type": "code",
   "execution_count": null,
   "id": "073d9d88",
   "metadata": {
    "vscode": {
     "languageId": "plaintext"
    }
   },
   "outputs": [],
   "source": [
    "def is_prime(n):\n",
    "    if n <= 1 :\n",
    "        return False \n",
    "return True \n",
    "\n",
    "def calculator(a,b,operation):\n",
    "    if operation == \"add\":\n",
    "        return a + b \n",
    "elif operation == \"subtract\":\n",
    "        return a - b\n",
    "elif operation == \"multiply\":\n",
    "      return a * b \n",
    "elif operation == \"divide\":\n",
    "      if b  == 0:\n",
    "          return \"Error : Division by zero\"\n",
    "        return a \\ b\n",
    "else :\n",
    "      return \"Error: Unknown operation\"\n",
    "\n",
    "print(is_prime(7))\n",
    "print(is_prime(10))\n",
    "\n",
    "print(calculator(10,5, \"add\"))\n",
    "print(calculator(10,5, \"subtract\"))\n",
    "print(calculator(10,5, \"multiply\"))\n",
    "print(calculator(10,5, \"divide\"))"
   ]
  }
 ],
 "metadata": {
  "language_info": {
   "name": "python"
  }
 },
 "nbformat": 4,
 "nbformat_minor": 5
}
