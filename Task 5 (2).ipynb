{
 "cells": [
  {
   "cell_type": "code",
   "execution_count": null,
   "id": "27a26bbe",
   "metadata": {
    "vscode": {
     "languageId": "plaintext"
    }
   },
   "outputs": [],
   "source": [
    "class Book:\n",
    "    def _init_(self, title, author, isbn, available=True):\n",
    "        self.title, self.author, self.__isbn, self.available = title, author, isbn, available\n",
    "    def get_isbn(self): return self.__isbn\n",
    "    def set_isbn(self, new): self.__isbn = new\n",
    "    def display_info(self):\n",
    "        print(f\"{self.title} | {self.author} | {self.__isbn} | {'Available' if self.available else 'Not available'}\")\n",
    "\n",
    "class Member:\n",
    "    def _init_(self, name, mid):\n",
    "        self.name, self.__mid, self.borrowed = name, mid, []\n",
    "    def get_membership_id(self): return self.__mid\n",
    "    def set_membership_id(self, new): self.__mid = new\n",
    "    def borrow_book(self, book):\n",
    "        if book.available: book.available=False; self.borrowed.append(book); print(f\"{self.name} borrowed {book.title}\"); return True\n",
    "        print(f\"{book.title} not available\"); return False\n",
    "    def return_book(self, book):\n",
    "        if book in self.borrowed: book.available=True; self.borrowed.remove(book); print(f\"{self.name} returned {book.title}\"); return True\n",
    "        print(f\"{self.name} has not borrowed {book.title}\"); return False\n",
    "    def list_borrowed(self):\n",
    "        print(f\"{self.name} borrowed: {[b.title for b in self.borrowed] or 'Nothing'}\")\n",
    "\n",
    "class StaffMember(Member):\n",
    "    def _init(self, name, mid, sid): super().init_(name, mid); self.sid=sid\n",
    "    def add_book(self, lib, book): lib.add_book(book); print(f\"{self.name} added {book.title}\")\n",
    "\n",
    "class Library:\n",
    "    def _init_(self, name): self.name, self.books = name, []\n",
    "    def add_book(self, book):\n",
    "     if not self.find(book.get_isbn()): self.books.append(book)\n",
    "        else: print(\"Duplicate ISBN\")\n",
    "    def find(self, isbn): return next((b for b in self.books if b.get_isbn()==isbn), None)\n",
    "    def list_books(self):\n",
    "        print(f\"Books in {self.name}:\"); [b.display_info() for b in self.books] if self.books else print(\"No books\")\n",
    "\n",
    "# Example usage\n",
    "if _name==\"main_\":\n",
    "    lib=Library(\"Central Library\")\n",
    "    b1,b2,b3=Book(\"1984\",\"Orwell\",\"111\"),Book(\"Mockingbird\",\"Harper\",\"222\"),Book(\"Clean Code\",\"Martin\",\"333\")\n",
    "    staff=StaffMember(\"Amina\",\"S100\",\"STF1\")\n",
    "    [staff.add_book(lib,b) for b in (b1,b2,b3)]\n",
    "    lib.list_books()\n",
    "    m=Member(\"Khaled\",\"M200\")\n",
    "    m.borrow_book(b1); m.borrow_book(b1); m.list_borrowed()\n",
    "    if lib.find(\"333\"): m.borrow_book(lib.find(\"333\"))\n",
    "    m.return_book(b1); m.list_borrowed()\n",
    "    lib.list_books()\n"
   ]
  }
 ],
 "metadata": {
  "language_info": {
   "name": "python"
  }
 },
 "nbformat": 4,
 "nbformat_minor": 5
}
