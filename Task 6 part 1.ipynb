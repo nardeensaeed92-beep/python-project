{
 "cells": [
  {
   "cell_type": "code",
   "execution_count": null,
   "id": "27a26bbe",
   "metadata": {
    "vscode": {
     "languageId": "plaintext"
    }
   },
   "outputs": [],
   "source": [
    "# Task: Basic NumPy Operations\n",
    "\n",
    "import numpy as np\n",
    "\n",
    "# 1. Create arrays\n",
    "A = np.array([10, 20, 30, 40, 50])\n",
    "B = np.array([5, 4, 3, 2, 1])\n",
    "\n",
    "print(\"Array A:\", A)\n",
    "print(\"Array B:\", B)\n",
    "\n",
    "# 2. Perform Operations\n",
    "print(\"\\n--- Basic Operations ---\")\n",
    "print(\"A + B =\", A + B)\n",
    "print(\"A - B =\", A - B)\n",
    "print(\"A * B =\", A * B)      # element-wise multiplication\n",
    "print(\"A / B =\", A / B)      # element-wise division\n",
    "\n",
    "# 3. Apply NumPy Functions\n",
    "print(\"\\n--- NumPy Functions ---\")\n",
    "print(\"Mean of A:\", np.mean(A))\n",
    "print(\"Max of A:\", np.max(A))\n",
    "print(\"Min of A:\", np.min(A))\n",
    "print(\"Dot Product of A and B:\", np.dot(A, B))\n",
    "\n",
    "# Reshape A into 5x1 matrix\n",
    "A_reshaped = A.reshape(5, 1)\n",
    "print(\"A reshaped into 5x1 matrix:\\n\", A_reshaped)"
   ]
  }
 ],
 "metadata": {
  "language_info": {
   "name": "python"
  }
 },
 "nbformat": 4,
 "nbformat_minor": 5
}
